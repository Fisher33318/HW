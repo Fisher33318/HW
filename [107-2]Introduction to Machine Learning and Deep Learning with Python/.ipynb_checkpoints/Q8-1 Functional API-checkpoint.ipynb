{
 "cells": [
  {
   "cell_type": "code",
   "execution_count": 1,
   "metadata": {},
   "outputs": [
    {
     "name": "stderr",
     "output_type": "stream",
     "text": [
      "Using TensorFlow backend.\n"
     ]
    }
   ],
   "source": [
    "%matplotlib inline\n",
    "\n",
    "import numpy as np\n",
    "import matplotlib.pyplot as plt\n",
    "import pandas as pd\n",
    "from keras.utils import np_utils\n",
    "from keras.models import Sequential\n",
    "from keras.layers import Dense, Activation, Dropout\n",
    "from keras.optimizers import SGD\n",
    "from keras.callbacks import EarlyStopping, History\n",
    "from keras.datasets import mnist"
   ]
  },
  {
   "cell_type": "markdown",
   "metadata": {},
   "source": [
    "## 使用API建立model所需函式庫"
   ]
  },
  {
   "cell_type": "code",
   "execution_count": 2,
   "metadata": {
    "collapsed": true
   },
   "outputs": [],
   "source": [
    "from keras.models import Model\n",
    "from keras.layers import Input\n",
    "from keras.layers import concatenate, add #為了合併與Eltwise所需"
   ]
  },
  {
   "cell_type": "code",
   "execution_count": 3,
   "metadata": {
    "collapsed": true
   },
   "outputs": [],
   "source": [
    "(x_train0, y_train0), (x_test0, y_test0) = mnist.load_data()"
   ]
  },
  {
   "cell_type": "code",
   "execution_count": 4,
   "metadata": {
    "collapsed": true
   },
   "outputs": [],
   "source": [
    "x_train = x_train0.reshape(60000, 784)\n",
    "x_test = x_test0.reshape(10000, 784)"
   ]
  },
  {
   "cell_type": "code",
   "execution_count": 5,
   "metadata": {
    "collapsed": true
   },
   "outputs": [],
   "source": [
    "x_train = (x_train - x_train.min()) / (x_train.max() - x_train.min())\n",
    "x_test = (x_test - x_test.min()) / (x_test.max() - x_test.min())"
   ]
  },
  {
   "cell_type": "code",
   "execution_count": 6,
   "metadata": {
    "collapsed": true
   },
   "outputs": [],
   "source": [
    "y_train = np_utils.to_categorical(y_train0, 10)\n",
    "y_test = np_utils.to_categorical(y_test0, 10)"
   ]
  },
  {
   "cell_type": "markdown",
   "metadata": {},
   "source": [
    "## 神經網路結構示意圖\n",
    "嘗試使用concatenate與skip搭配eltwise"
   ]
  },
  {
   "cell_type": "markdown",
   "metadata": {},
   "source": [
    "![Image of Yaktocat](https://github.com/Fisher318/pythonHW/blob/master/skip.JPG?raw=true)"
   ]
  },
  {
   "cell_type": "code",
   "execution_count": 7,
   "metadata": {
    "collapsed": true
   },
   "outputs": [],
   "source": [
    "f_1 = Dense(1000, activation='relu')\n",
    "f_2 = Dense(500, activation='relu')\n",
    "f_3 = Dense(500, activation='sigmoid')\n",
    "d_1 = Dropout(0.5)\n",
    "f_4 = Dense(250, activation='relu')\n",
    "f_5 = Dense(250, activation='sigmoid')\n",
    "d_2 = Dropout(0.5)\n",
    "f_6 = Dense(100, activation='relu')\n",
    "f_7 = Dense(100, activation='relu')\n",
    "f_8 = Dense(10, activation='softmax')"
   ]
  },
  {
   "cell_type": "markdown",
   "metadata": {},
   "source": [
    "這裡要使用Input!!!!!"
   ]
  },
  {
   "cell_type": "code",
   "execution_count": 8,
   "metadata": {
    "collapsed": true
   },
   "outputs": [],
   "source": [
    "x = Input(shape=(784,))\n",
    "h_1 = f_1(x)\n",
    "h_2 = f_2(h_1)\n",
    "h_3 = f_3(h_1)\n",
    "h_4 = f_4(h_2)\n",
    "h_5 = f_5(h_2)\n",
    "con_1 = concatenate([d_1(h_3), h_4, d_2(h_5)])\n",
    "h_6 = f_6(con_1)\n",
    "h_7 = f_7(h_1)\n",
    "y = f_8(add([h_6, h_7]))"
   ]
  },
  {
   "cell_type": "markdown",
   "metadata": {},
   "source": [
    "## 確認model有建立成功\n",
    "這次建立model要使用Model!!!!!"
   ]
  },
  {
   "cell_type": "code",
   "execution_count": 9,
   "metadata": {},
   "outputs": [
    {
     "name": "stdout",
     "output_type": "stream",
     "text": [
      "__________________________________________________________________________________________________\n",
      "Layer (type)                    Output Shape         Param #     Connected to                     \n",
      "==================================================================================================\n",
      "input_1 (InputLayer)            (None, 784)          0                                            \n",
      "__________________________________________________________________________________________________\n",
      "dense_1 (Dense)                 (None, 1000)         785000      input_1[0][0]                    \n",
      "__________________________________________________________________________________________________\n",
      "dense_2 (Dense)                 (None, 500)          500500      dense_1[0][0]                    \n",
      "__________________________________________________________________________________________________\n",
      "dense_3 (Dense)                 (None, 500)          500500      dense_1[0][0]                    \n",
      "__________________________________________________________________________________________________\n",
      "dense_5 (Dense)                 (None, 250)          125250      dense_2[0][0]                    \n",
      "__________________________________________________________________________________________________\n",
      "dropout_1 (Dropout)             (None, 500)          0           dense_3[0][0]                    \n",
      "__________________________________________________________________________________________________\n",
      "dense_4 (Dense)                 (None, 250)          125250      dense_2[0][0]                    \n",
      "__________________________________________________________________________________________________\n",
      "dropout_2 (Dropout)             (None, 250)          0           dense_5[0][0]                    \n",
      "__________________________________________________________________________________________________\n",
      "concatenate_1 (Concatenate)     (None, 1000)         0           dropout_1[0][0]                  \n",
      "                                                                 dense_4[0][0]                    \n",
      "                                                                 dropout_2[0][0]                  \n",
      "__________________________________________________________________________________________________\n",
      "dense_6 (Dense)                 (None, 100)          100100      concatenate_1[0][0]              \n",
      "__________________________________________________________________________________________________\n",
      "dense_7 (Dense)                 (None, 100)          100100      dense_1[0][0]                    \n",
      "__________________________________________________________________________________________________\n",
      "add_1 (Add)                     (None, 100)          0           dense_6[0][0]                    \n",
      "                                                                 dense_7[0][0]                    \n",
      "__________________________________________________________________________________________________\n",
      "dense_8 (Dense)                 (None, 10)           1010        add_1[0][0]                      \n",
      "==================================================================================================\n",
      "Total params: 2,237,710\n",
      "Trainable params: 2,237,710\n",
      "Non-trainable params: 0\n",
      "__________________________________________________________________________________________________\n"
     ]
    }
   ],
   "source": [
    "model = Model(x, y)\n",
    "model.summary()"
   ]
  },
  {
   "cell_type": "code",
   "execution_count": 10,
   "metadata": {
    "collapsed": true
   },
   "outputs": [],
   "source": [
    "model.compile(loss='categorical_crossentropy', optimizer=SGD(lr=0.01, decay=1e-4, momentum=0.9), metrics=['accuracy'])"
   ]
  },
  {
   "cell_type": "code",
   "execution_count": 11,
   "metadata": {
    "collapsed": true
   },
   "outputs": [],
   "source": [
    "earlystopping = EarlyStopping(monitor='val_acc', \n",
    "                              patience=3, \n",
    "                              verbose=1, \n",
    "                              mode='max')"
   ]
  },
  {
   "cell_type": "code",
   "execution_count": 12,
   "metadata": {},
   "outputs": [
    {
     "name": "stdout",
     "output_type": "stream",
     "text": [
      "Train on 60000 samples, validate on 10000 samples\n",
      "Epoch 1/100\n",
      "60000/60000 [==============================] - 5s 77us/step - loss: 1.2042 - acc: 0.6427 - val_loss: 0.4603 - val_acc: 0.8750\n",
      "Epoch 2/100\n",
      "60000/60000 [==============================] - 2s 32us/step - loss: 0.4066 - acc: 0.8843 - val_loss: 0.3339 - val_acc: 0.9066\n",
      "Epoch 3/100\n",
      "60000/60000 [==============================] - 2s 32us/step - loss: 0.3308 - acc: 0.9044 - val_loss: 0.2984 - val_acc: 0.9165\n",
      "Epoch 4/100\n",
      "60000/60000 [==============================] - 2s 31us/step - loss: 0.2927 - acc: 0.9157 - val_loss: 0.2677 - val_acc: 0.9267\n",
      "Epoch 5/100\n",
      "60000/60000 [==============================] - 2s 32us/step - loss: 0.2683 - acc: 0.9236 - val_loss: 0.2539 - val_acc: 0.9287\n",
      "Epoch 6/100\n",
      "60000/60000 [==============================] - 2s 32us/step - loss: 0.2500 - acc: 0.9286 - val_loss: 0.2369 - val_acc: 0.9331\n",
      "Epoch 7/100\n",
      "60000/60000 [==============================] - 2s 33us/step - loss: 0.2339 - acc: 0.9338 - val_loss: 0.2210 - val_acc: 0.9379\n",
      "Epoch 8/100\n",
      "60000/60000 [==============================] - 2s 33us/step - loss: 0.2196 - acc: 0.9381 - val_loss: 0.2087 - val_acc: 0.9403\n",
      "Epoch 9/100\n",
      "60000/60000 [==============================] - 2s 33us/step - loss: 0.2075 - acc: 0.9407 - val_loss: 0.2010 - val_acc: 0.9429\n",
      "Epoch 10/100\n",
      "60000/60000 [==============================] - 2s 33us/step - loss: 0.1965 - acc: 0.9440 - val_loss: 0.1907 - val_acc: 0.9454\n",
      "Epoch 11/100\n",
      "60000/60000 [==============================] - 2s 32us/step - loss: 0.1866 - acc: 0.9478 - val_loss: 0.1832 - val_acc: 0.9471\n",
      "Epoch 12/100\n",
      "60000/60000 [==============================] - 2s 32us/step - loss: 0.1784 - acc: 0.9490 - val_loss: 0.1747 - val_acc: 0.9494\n",
      "Epoch 13/100\n",
      "60000/60000 [==============================] - 2s 32us/step - loss: 0.1698 - acc: 0.9522 - val_loss: 0.1675 - val_acc: 0.9510\n",
      "Epoch 14/100\n",
      "60000/60000 [==============================] - 2s 32us/step - loss: 0.1625 - acc: 0.9540 - val_loss: 0.1613 - val_acc: 0.9534\n",
      "Epoch 15/100\n",
      "60000/60000 [==============================] - 2s 32us/step - loss: 0.1563 - acc: 0.9555 - val_loss: 0.1572 - val_acc: 0.9554\n",
      "Epoch 16/100\n",
      "60000/60000 [==============================] - 2s 32us/step - loss: 0.1493 - acc: 0.9578 - val_loss: 0.1510 - val_acc: 0.9558\n",
      "Epoch 17/100\n",
      "60000/60000 [==============================] - 2s 33us/step - loss: 0.1435 - acc: 0.9598 - val_loss: 0.1464 - val_acc: 0.9569\n",
      "Epoch 18/100\n",
      "60000/60000 [==============================] - 2s 32us/step - loss: 0.1378 - acc: 0.9607 - val_loss: 0.1426 - val_acc: 0.9582\n",
      "Epoch 19/100\n",
      "60000/60000 [==============================] - 2s 32us/step - loss: 0.1335 - acc: 0.9623 - val_loss: 0.1372 - val_acc: 0.9594\n",
      "Epoch 20/100\n",
      "60000/60000 [==============================] - 2s 33us/step - loss: 0.1285 - acc: 0.9639 - val_loss: 0.1350 - val_acc: 0.9606\n",
      "Epoch 21/100\n",
      "60000/60000 [==============================] - 2s 32us/step - loss: 0.1242 - acc: 0.9652 - val_loss: 0.1317 - val_acc: 0.9602\n",
      "Epoch 22/100\n",
      "60000/60000 [==============================] - 2s 32us/step - loss: 0.1200 - acc: 0.9665 - val_loss: 0.1294 - val_acc: 0.9615\n",
      "Epoch 23/100\n",
      "60000/60000 [==============================] - 2s 32us/step - loss: 0.1158 - acc: 0.9675 - val_loss: 0.1241 - val_acc: 0.9632\n",
      "Epoch 24/100\n",
      "60000/60000 [==============================] - 2s 33us/step - loss: 0.1123 - acc: 0.9688 - val_loss: 0.1219 - val_acc: 0.9621\n",
      "Epoch 25/100\n",
      "60000/60000 [==============================] - 2s 32us/step - loss: 0.1087 - acc: 0.9698 - val_loss: 0.1180 - val_acc: 0.9640\n",
      "Epoch 26/100\n",
      "60000/60000 [==============================] - 2s 32us/step - loss: 0.1059 - acc: 0.9711 - val_loss: 0.1165 - val_acc: 0.9654\n",
      "Epoch 27/100\n",
      "60000/60000 [==============================] - 2s 32us/step - loss: 0.1023 - acc: 0.9718 - val_loss: 0.1134 - val_acc: 0.9659\n",
      "Epoch 28/100\n",
      "60000/60000 [==============================] - 2s 33us/step - loss: 0.0993 - acc: 0.9724 - val_loss: 0.1116 - val_acc: 0.9667\n",
      "Epoch 29/100\n",
      "60000/60000 [==============================] - 2s 32us/step - loss: 0.0966 - acc: 0.9735 - val_loss: 0.1102 - val_acc: 0.9669\n",
      "Epoch 30/100\n",
      "60000/60000 [==============================] - 2s 33us/step - loss: 0.0943 - acc: 0.9738 - val_loss: 0.1093 - val_acc: 0.9670\n",
      "Epoch 31/100\n",
      "60000/60000 [==============================] - 2s 32us/step - loss: 0.0911 - acc: 0.9747 - val_loss: 0.1050 - val_acc: 0.9686\n",
      "Epoch 32/100\n",
      "60000/60000 [==============================] - 2s 32us/step - loss: 0.0884 - acc: 0.9759 - val_loss: 0.1031 - val_acc: 0.9683\n",
      "Epoch 33/100\n",
      "60000/60000 [==============================] - 2s 32us/step - loss: 0.0865 - acc: 0.9760 - val_loss: 0.1017 - val_acc: 0.9686\n",
      "Epoch 34/100\n",
      "60000/60000 [==============================] - 2s 32us/step - loss: 0.0839 - acc: 0.9772 - val_loss: 0.0998 - val_acc: 0.9697\n",
      "Epoch 35/100\n",
      "60000/60000 [==============================] - 2s 32us/step - loss: 0.0820 - acc: 0.9773 - val_loss: 0.0995 - val_acc: 0.9706\n",
      "Epoch 36/100\n",
      "60000/60000 [==============================] - 2s 33us/step - loss: 0.0803 - acc: 0.9778 - val_loss: 0.0975 - val_acc: 0.9707\n",
      "Epoch 37/100\n",
      "60000/60000 [==============================] - 2s 32us/step - loss: 0.0783 - acc: 0.9786 - val_loss: 0.0955 - val_acc: 0.9702\n",
      "Epoch 38/100\n",
      "60000/60000 [==============================] - 2s 33us/step - loss: 0.0763 - acc: 0.9791 - val_loss: 0.0949 - val_acc: 0.9707\n",
      "Epoch 39/100\n",
      "60000/60000 [==============================] - 2s 32us/step - loss: 0.0740 - acc: 0.9801 - val_loss: 0.0937 - val_acc: 0.9711\n",
      "Epoch 40/100\n",
      "60000/60000 [==============================] - 2s 33us/step - loss: 0.0723 - acc: 0.9806 - val_loss: 0.0923 - val_acc: 0.9717\n",
      "Epoch 41/100\n",
      "60000/60000 [==============================] - 2s 32us/step - loss: 0.0707 - acc: 0.9809 - val_loss: 0.0921 - val_acc: 0.9716\n",
      "Epoch 42/100\n",
      "60000/60000 [==============================] - 2s 32us/step - loss: 0.0692 - acc: 0.9812 - val_loss: 0.0908 - val_acc: 0.9726\n",
      "Epoch 43/100\n",
      "60000/60000 [==============================] - 2s 33us/step - loss: 0.0676 - acc: 0.9818 - val_loss: 0.0888 - val_acc: 0.9730\n",
      "Epoch 44/100\n",
      "60000/60000 [==============================] - 2s 33us/step - loss: 0.0660 - acc: 0.9821 - val_loss: 0.0879 - val_acc: 0.9725\n",
      "Epoch 45/100\n",
      "60000/60000 [==============================] - 2s 34us/step - loss: 0.0643 - acc: 0.9825 - val_loss: 0.0871 - val_acc: 0.9728\n",
      "Epoch 46/100\n",
      "60000/60000 [==============================] - 2s 32us/step - loss: 0.0634 - acc: 0.9831 - val_loss: 0.0867 - val_acc: 0.9732\n",
      "Epoch 47/100\n",
      "60000/60000 [==============================] - 2s 33us/step - loss: 0.0616 - acc: 0.9839 - val_loss: 0.0847 - val_acc: 0.9735\n",
      "Epoch 48/100\n",
      "60000/60000 [==============================] - 2s 32us/step - loss: 0.0607 - acc: 0.9835 - val_loss: 0.0847 - val_acc: 0.9738\n",
      "Epoch 49/100\n",
      "60000/60000 [==============================] - 2s 32us/step - loss: 0.0592 - acc: 0.9843 - val_loss: 0.0835 - val_acc: 0.9738\n",
      "Epoch 50/100\n",
      "60000/60000 [==============================] - 2s 33us/step - loss: 0.0577 - acc: 0.9849 - val_loss: 0.0829 - val_acc: 0.9742\n",
      "Epoch 51/100\n",
      "60000/60000 [==============================] - 2s 32us/step - loss: 0.0570 - acc: 0.9844 - val_loss: 0.0825 - val_acc: 0.9747\n",
      "Epoch 52/100\n",
      "60000/60000 [==============================] - 2s 32us/step - loss: 0.0555 - acc: 0.9856 - val_loss: 0.0815 - val_acc: 0.9753\n",
      "Epoch 53/100\n",
      "60000/60000 [==============================] - 2s 33us/step - loss: 0.0544 - acc: 0.9857 - val_loss: 0.0801 - val_acc: 0.9747\n",
      "Epoch 54/100\n",
      "60000/60000 [==============================] - 2s 32us/step - loss: 0.0531 - acc: 0.9864 - val_loss: 0.0802 - val_acc: 0.9749\n",
      "Epoch 55/100\n",
      "60000/60000 [==============================] - 2s 32us/step - loss: 0.0519 - acc: 0.9864 - val_loss: 0.0800 - val_acc: 0.9751\n",
      "Epoch 00055: early stopping\n"
     ]
    }
   ],
   "source": [
    "history = model.fit(x_train, y_train, \n",
    "           batch_size=1000, \n",
    "           epochs=100, \n",
    "           verbose = 1, \n",
    "           validation_data = (x_test, y_test), \n",
    "           callbacks=[earlystopping])"
   ]
  },
  {
   "cell_type": "code",
   "execution_count": 13,
   "metadata": {},
   "outputs": [
    {
     "data": {
      "image/png": "[encoded data removed]",
      "text/plain": [
       "<Figure size 432x288 with 1 Axes>"
      ]
     },
     "metadata": {},
     "output_type": "display_data"
    }
   ],
   "source": [
    "plt.plot(history.history['acc'])\n",
    "plt.plot(history.history['val_acc'])\n",
    "plt.title('acc / val_acc')\n",
    "plt.ylabel('accuracy')\n",
    "plt.xlabel('epoch')\n",
    "plt.legend(['acc', 'val_acc'], loc = 'best')\n",
    "plt.show()"
   ]
  },
  {
   "cell_type": "code",
   "execution_count": 14,
   "metadata": {
    "collapsed": true
   },
   "outputs": [],
   "source": [
    "model_json = model.to_json()\n",
    "open(\"API_test.json\",'w').write(model_json)\n",
    "model.save_weights(\"API_test.h5\")"
   ]
  },
  {
   "cell_type": "code",
   "execution_count": null,
   "metadata": {
    "collapsed": true
   },
   "outputs": [],
   "source": []
  }
 ],
 "metadata": {
  "kernelspec": {
   "display_name": "Python 3",
   "language": "python",
   "name": "python3"
  },
  "language_info": {
   "codemirror_mode": {
    "name": "ipython",
    "version": 3
   },
   "file_extension": ".py",
   "mimetype": "text/x-python",
   "name": "python",
   "nbconvert_exporter": "python",
   "pygments_lexer": "ipython3",
   "version": "3.6.2"
  }
 },
 "nbformat": 4,
 "nbformat_minor": 2
}
