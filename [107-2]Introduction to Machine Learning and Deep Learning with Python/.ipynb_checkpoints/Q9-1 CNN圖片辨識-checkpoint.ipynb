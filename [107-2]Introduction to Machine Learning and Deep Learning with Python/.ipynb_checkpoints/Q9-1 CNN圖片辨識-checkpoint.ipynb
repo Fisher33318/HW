{
 "cells": [
  {
   "cell_type": "code",
   "execution_count": 1,
   "metadata": {},
   "outputs": [
    {
     "name": "stderr",
     "output_type": "stream",
     "text": [
      "Using TensorFlow backend.\n"
     ]
    }
   ],
   "source": [
    "%matplotlib inline\n",
    "\n",
    "import numpy as np\n",
    "import matplotlib.pyplot as plt\n",
    "import pandas as pd\n",
    "from keras.utils import np_utils\n",
    "from keras.models import Model\n",
    "from keras.layers import Dense, Activation, Dropout, Input, concatenate, add\n",
    "from keras.optimizers import SGD, Adam\n",
    "from keras.callbacks import EarlyStopping, History\n",
    "from keras.datasets import mnist"
   ]
  },
  {
   "cell_type": "markdown",
   "metadata": {},
   "source": [
    "# CNN需要用到的MODEL LAYER\n",
    "## Conv2D、MaxPool2D:CNN必備\n",
    "## Flatten:可以把參數展開變成一維\n",
    "ex:(28, 28, 3) => (2352)\n",
    "## GlobalAveragePooling2D:Resnet最後一層所用到的layer，可以將每一通道的平均取出。變成一維的通道數\n",
    "ex:(28, 28, 3) => (3)\n",
    "## ZeroPadding2D:因要嘗試Resnet，想說mnist的size太小，需要先padding，但跑太久而且好像train不起來就沒用到了"
   ]
  },
  {
   "cell_type": "code",
   "execution_count": 2,
   "metadata": {
    "collapsed": true
   },
   "outputs": [],
   "source": [
    "from keras.layers import Conv2D, MaxPool2D, Flatten, ZeroPadding2D, GlobalAveragePooling2D"
   ]
  },
  {
   "cell_type": "code",
   "execution_count": 3,
   "metadata": {
    "collapsed": true
   },
   "outputs": [],
   "source": [
    "(x_train0, y_train0), (x_test0, y_test0) = mnist.load_data()"
   ]
  },
  {
   "cell_type": "markdown",
   "metadata": {},
   "source": [
    "## 做CNN記得要將input輸入通道數"
   ]
  },
  {
   "cell_type": "code",
   "execution_count": 4,
   "metadata": {
    "collapsed": true
   },
   "outputs": [],
   "source": [
    "x_train = x_train0.reshape(60000, 28, 28, 1)\n",
    "x_test = x_test0.reshape(10000, 28, 28, 1)"
   ]
  },
  {
   "cell_type": "code",
   "execution_count": 5,
   "metadata": {
    "collapsed": true
   },
   "outputs": [],
   "source": [
    "x_train = (x_train - x_train.min()) / (x_train.max() - x_train.min())\n",
    "x_test = (x_test - x_test.min()) / (x_test.max() - x_test.min())"
   ]
  },
  {
   "cell_type": "code",
   "execution_count": 6,
   "metadata": {
    "collapsed": true
   },
   "outputs": [],
   "source": [
    "y_train = np_utils.to_categorical(y_train0, 10)\n",
    "y_test = np_utils.to_categorical(y_test0, 10)"
   ]
  },
  {
   "cell_type": "markdown",
   "metadata": {},
   "source": [
    "## 縮小版的Resnet\n",
    "![Image of Yaktocat](https://github.com/Fisher318/pythonHW/blob/master/skip2.JPG?raw=true)"
   ]
  },
  {
   "cell_type": "code",
   "execution_count": 7,
   "metadata": {
    "collapsed": true
   },
   "outputs": [],
   "source": [
    "c_1 = Conv2D(32, (5, 5), padding='same', activation='relu')\n",
    "p_1 = MaxPool2D((2, 2))\n",
    "c_2 = Conv2D(32, (3, 3), padding='same', activation='relu')\n",
    "c_3 = Conv2D(32, (3, 3), padding='same', activation='relu')\n",
    "c_4 = Conv2D(32, (3, 3), padding='same', activation='relu')\n",
    "c_5 = Conv2D(32, (3, 3), padding='same', activation='relu')\n",
    "c_6 = Conv2D(64, (3, 3), padding='same', activation='relu')\n",
    "c_7 = Conv2D(64, (3, 3), padding='same', activation='relu')\n",
    "c_8 = Conv2D(64, (3, 3), padding='same', activation='relu')\n",
    "c_9 = Conv2D(64, (3, 3), padding='same', activation='relu')\n",
    "p_2 = GlobalAveragePooling2D()\n",
    "f_1 = Dense(100, activation='relu')\n",
    "f_2 = Dense(10, activation='softmax')"
   ]
  },
  {
   "cell_type": "code",
   "execution_count": 8,
   "metadata": {
    "collapsed": true
   },
   "outputs": [],
   "source": [
    "x = Input(shape=(28, 28, 1, ))\n",
    "h_1 = c_1(x)\n",
    "h_2 = p_1(h_1)\n",
    "\n",
    "h_3 = c_2(h_2)\n",
    "h_4 = c_3(h_3)\n",
    "add_1 = add([h_2, h_4])\n",
    "h_5 = c_4(add_1)\n",
    "h_6 = c_5(h_5)\n",
    "add_2 = add([h_6, add_1])\n",
    "h_7 = c_6(add_2)\n",
    "h_8 = c_7(h_7)\n",
    "h_9 = c_8(h_8)\n",
    "h_10 = c_9(h_9)\n",
    "add_3 = add([h_10, h_8])\n",
    "h_11 = p_2(add_3)\n",
    "h_12 = f_1(h_11)\n",
    "y = f_2(h_12)"
   ]
  },
  {
   "cell_type": "code",
   "execution_count": 9,
   "metadata": {},
   "outputs": [
    {
     "name": "stdout",
     "output_type": "stream",
     "text": [
      "__________________________________________________________________________________________________\n",
      "Layer (type)                    Output Shape         Param #     Connected to                     \n",
      "==================================================================================================\n",
      "input_1 (InputLayer)            (None, 28, 28, 1)    0                                            \n",
      "__________________________________________________________________________________________________\n",
      "conv2d_1 (Conv2D)               (None, 28, 28, 32)   832         input_1[0][0]                    \n",
      "__________________________________________________________________________________________________\n",
      "max_pooling2d_1 (MaxPooling2D)  (None, 14, 14, 32)   0           conv2d_1[0][0]                   \n",
      "__________________________________________________________________________________________________\n",
      "conv2d_2 (Conv2D)               (None, 14, 14, 32)   9248        max_pooling2d_1[0][0]            \n",
      "__________________________________________________________________________________________________\n",
      "conv2d_3 (Conv2D)               (None, 14, 14, 32)   9248        conv2d_2[0][0]                   \n",
      "__________________________________________________________________________________________________\n",
      "add_1 (Add)                     (None, 14, 14, 32)   0           max_pooling2d_1[0][0]            \n",
      "                                                                 conv2d_3[0][0]                   \n",
      "__________________________________________________________________________________________________\n",
      "conv2d_4 (Conv2D)               (None, 14, 14, 32)   9248        add_1[0][0]                      \n",
      "__________________________________________________________________________________________________\n",
      "conv2d_5 (Conv2D)               (None, 14, 14, 32)   9248        conv2d_4[0][0]                   \n",
      "__________________________________________________________________________________________________\n",
      "add_2 (Add)                     (None, 14, 14, 32)   0           conv2d_5[0][0]                   \n",
      "                                                                 add_1[0][0]                      \n",
      "__________________________________________________________________________________________________\n",
      "conv2d_6 (Conv2D)               (None, 14, 14, 64)   18496       add_2[0][0]                      \n",
      "__________________________________________________________________________________________________\n",
      "conv2d_7 (Conv2D)               (None, 14, 14, 64)   36928       conv2d_6[0][0]                   \n",
      "__________________________________________________________________________________________________\n",
      "conv2d_8 (Conv2D)               (None, 14, 14, 64)   36928       conv2d_7[0][0]                   \n",
      "__________________________________________________________________________________________________\n",
      "conv2d_9 (Conv2D)               (None, 14, 14, 64)   36928       conv2d_8[0][0]                   \n",
      "__________________________________________________________________________________________________\n",
      "add_3 (Add)                     (None, 14, 14, 64)   0           conv2d_9[0][0]                   \n",
      "                                                                 conv2d_7[0][0]                   \n",
      "__________________________________________________________________________________________________\n",
      "global_average_pooling2d_1 (Glo (None, 64)           0           add_3[0][0]                      \n",
      "__________________________________________________________________________________________________\n",
      "dense_1 (Dense)                 (None, 100)          6500        global_average_pooling2d_1[0][0] \n",
      "__________________________________________________________________________________________________\n",
      "dense_2 (Dense)                 (None, 10)           1010        dense_1[0][0]                    \n",
      "==================================================================================================\n",
      "Total params: 174,614\n",
      "Trainable params: 174,614\n",
      "Non-trainable params: 0\n",
      "__________________________________________________________________________________________________\n"
     ]
    }
   ],
   "source": [
    "model = Model(x, y)\n",
    "model.summary()"
   ]
  },
  {
   "cell_type": "code",
   "execution_count": 10,
   "metadata": {
    "collapsed": true
   },
   "outputs": [],
   "source": [
    "model.compile(loss='categorical_crossentropy', optimizer=SGD(lr=0.01, decay=1e-4, momentum=0.9), metrics=['accuracy'])"
   ]
  },
  {
   "cell_type": "code",
   "execution_count": 12,
   "metadata": {
    "collapsed": true
   },
   "outputs": [],
   "source": [
    "earlystopping = EarlyStopping(monitor='val_acc', \n",
    "                              patience=3, \n",
    "                              verbose=1, \n",
    "                              mode='max')"
   ]
  },
  {
   "cell_type": "code",
   "execution_count": 13,
   "metadata": {},
   "outputs": [
    {
     "name": "stdout",
     "output_type": "stream",
     "text": [
      "Train on 60000 samples, validate on 10000 samples\n",
      "Epoch 1/100\n",
      "60000/60000 [==============================] - 22s 360us/step - loss: 2.2983 - acc: 0.1816 - val_loss: 2.2894 - val_acc: 0.2601\n",
      "Epoch 2/100\n",
      "60000/60000 [==============================] - 17s 290us/step - loss: 2.2629 - acc: 0.1473 - val_loss: 2.2186 - val_acc: 0.1923\n",
      "Epoch 3/100\n",
      "60000/60000 [==============================] - 18s 296us/step - loss: 2.1602 - acc: 0.2286 - val_loss: 2.1073 - val_acc: 0.2210\n",
      "Epoch 4/100\n",
      "60000/60000 [==============================] - 18s 306us/step - loss: 1.8711 - acc: 0.2689 - val_loss: 1.6824 - val_acc: 0.3209\n",
      "Epoch 5/100\n",
      "60000/60000 [==============================] - 19s 313us/step - loss: 1.6186 - acc: 0.3794 - val_loss: 1.7167 - val_acc: 0.3536\n",
      "Epoch 6/100\n",
      "60000/60000 [==============================] - 19s 320us/step - loss: 1.2546 - acc: 0.5313 - val_loss: 0.9508 - val_acc: 0.6624\n",
      "Epoch 7/100\n",
      "60000/60000 [==============================] - 20s 330us/step - loss: 1.2533 - acc: 0.6624 - val_loss: 2.0682 - val_acc: 0.2308\n",
      "Epoch 8/100\n",
      "60000/60000 [==============================] - 20s 332us/step - loss: 1.9034 - acc: 0.3371 - val_loss: 1.8831 - val_acc: 0.3147\n",
      "Epoch 9/100\n",
      "60000/60000 [==============================] - 19s 324us/step - loss: 1.1537 - acc: 0.6317 - val_loss: 0.7358 - val_acc: 0.7824\n",
      "Epoch 10/100\n",
      "60000/60000 [==============================] - 20s 326us/step - loss: 0.6898 - acc: 0.7874 - val_loss: 0.5599 - val_acc: 0.8257\n",
      "Epoch 11/100\n",
      "60000/60000 [==============================] - 20s 328us/step - loss: 0.4810 - acc: 0.8543 - val_loss: 0.3494 - val_acc: 0.8947\n",
      "Epoch 12/100\n",
      "60000/60000 [==============================] - 19s 325us/step - loss: 0.3794 - acc: 0.8837 - val_loss: 0.2899 - val_acc: 0.9096\n",
      "Epoch 13/100\n",
      "60000/60000 [==============================] - 19s 324us/step - loss: 0.2696 - acc: 0.9172 - val_loss: 0.2100 - val_acc: 0.9355\n",
      "Epoch 14/100\n",
      "60000/60000 [==============================] - 20s 326us/step - loss: 0.2334 - acc: 0.9283 - val_loss: 0.1853 - val_acc: 0.9413\n",
      "Epoch 15/100\n",
      "60000/60000 [==============================] - 20s 325us/step - loss: 0.1886 - acc: 0.9420 - val_loss: 0.1699 - val_acc: 0.9484\n",
      "Epoch 16/100\n",
      "60000/60000 [==============================] - 19s 324us/step - loss: 0.1949 - acc: 0.9407 - val_loss: 0.1456 - val_acc: 0.9509\n",
      "Epoch 17/100\n",
      "60000/60000 [==============================] - 19s 324us/step - loss: 0.1578 - acc: 0.9510 - val_loss: 0.1580 - val_acc: 0.9488\n",
      "Epoch 18/100\n",
      "60000/60000 [==============================] - 20s 325us/step - loss: 0.1372 - acc: 0.9582 - val_loss: 0.1139 - val_acc: 0.9623\n",
      "Epoch 19/100\n",
      "60000/60000 [==============================] - 20s 326us/step - loss: 0.1148 - acc: 0.9644 - val_loss: 0.0976 - val_acc: 0.9685\n",
      "Epoch 20/100\n",
      "60000/60000 [==============================] - 20s 326us/step - loss: 0.1083 - acc: 0.9661 - val_loss: 0.1052 - val_acc: 0.9677\n",
      "Epoch 21/100\n",
      "60000/60000 [==============================] - 20s 334us/step - loss: 0.1053 - acc: 0.9677 - val_loss: 0.0959 - val_acc: 0.9670\n",
      "Epoch 22/100\n",
      "60000/60000 [==============================] - 20s 338us/step - loss: 0.0936 - acc: 0.9703 - val_loss: 0.0766 - val_acc: 0.9743\n",
      "Epoch 23/100\n",
      "60000/60000 [==============================] - 20s 338us/step - loss: 0.0916 - acc: 0.9714 - val_loss: 0.0749 - val_acc: 0.9757\n",
      "Epoch 24/100\n",
      "60000/60000 [==============================] - 20s 337us/step - loss: 0.0899 - acc: 0.9720 - val_loss: 0.0670 - val_acc: 0.9790\n",
      "Epoch 25/100\n",
      "60000/60000 [==============================] - 20s 331us/step - loss: 0.0779 - acc: 0.9759 - val_loss: 0.0684 - val_acc: 0.9783\n",
      "Epoch 26/100\n",
      "60000/60000 [==============================] - 20s 336us/step - loss: 0.0907 - acc: 0.9718 - val_loss: 0.0710 - val_acc: 0.9764\n",
      "Epoch 27/100\n",
      "60000/60000 [==============================] - 20s 334us/step - loss: 0.0790 - acc: 0.9752 - val_loss: 0.0811 - val_acc: 0.9734\n",
      "Epoch 00027: early stopping\n"
     ]
    }
   ],
   "source": [
    "history = model.fit(x_train, y_train, \n",
    "           batch_size=1000, \n",
    "           epochs=100, \n",
    "           verbose = 1, \n",
    "           validation_data = (x_test, y_test), \n",
    "           callbacks=[earlystopping])"
   ]
  },
  {
   "cell_type": "markdown",
   "metadata": {},
   "source": [
    "## 下面這張圖害我差點train到一半的時候關掉重來= ="
   ]
  },
  {
   "cell_type": "code",
   "execution_count": 14,
   "metadata": {},
   "outputs": [
    {
     "data": {
      "image/png": "[encoded data removed]",
      "text/plain": [
       "<Figure size 432x288 with 1 Axes>"
      ]
     },
     "metadata": {},
     "output_type": "display_data"
    }
   ],
   "source": [
    "plt.plot(history.history['acc'])\n",
    "plt.plot(history.history['val_acc'])\n",
    "plt.title('acc / val_acc')\n",
    "plt.ylabel('accuracy')\n",
    "plt.xlabel('epoch')\n",
    "plt.legend(['acc', 'val_acc'], loc = 'best')\n",
    "plt.show()"
   ]
  },
  {
   "cell_type": "code",
   "execution_count": 16,
   "metadata": {
    "collapsed": true
   },
   "outputs": [],
   "source": [
    "model_json = model.to_json()\n",
    "open(\"CNN_test.json\",'w').write(model_json)\n",
    "model.save_weights(\"CNN_test.h5\")"
   ]
  },
  {
   "cell_type": "markdown",
   "metadata": {},
   "source": [
    "## 下面兩格就是原本打的Resnet，可惜不太能用。不過在需要擴增通道維度(打算用0)的地方還沒有解決，之後可以再回來研究看看(下圖虛線處)\n",
    "![Image of Yaktocat](https://storage.googleapis.com/kaggle-datasets-images/6978/10038/d9e74a548a8cdca167b38520ac8bf405/data-original.png?t=2017-12-13-20-32-53)"
   ]
  },
  {
   "cell_type": "markdown",
   "metadata": {},
   "source": [
    "x = Input(shape=(28, 28, 1, ))\n",
    "p_x = z_1(x)\n",
    "h_1 = c_1(p_x)\n",
    "h_2 = p_1(h_1)\n",
    "\n",
    "h_3 = c_2(h_2)\n",
    "h_4 = c_3(h_3)\n",
    "add_1 = add([h_2, h_4])\n",
    "h_5 = c_4(add_1)\n",
    "h_6 = c_5(h_5)\n",
    "add_2 = add([h_6, add_1])\n",
    "h_7 = c_6(add_2)\n",
    "h_8 = c_7(h_7)\n",
    "add_3 = add([h_8, add_2])\n",
    "h_9 = c_8(add_3)\n",
    "h_10 = c_9(h_9)\n",
    "#add_4 = add([h_10, ])\n",
    "h_11 = c_10(h_10)\n",
    "h_12 = c_11(h_11)\n",
    "add_5 = add([h_12, h_10])\n",
    "h_13 = c_12(add_5)\n",
    "h_14 = c_13(h_13)\n",
    "add_6 = add([h_14, add_5])\n",
    "h_15 = c_14(add_6)\n",
    "h_16 = c_15(h_15)\n",
    "add_7 = add([h_16, add_6])\n",
    "h_17 = c_16(add_7)\n",
    "h_18 = c_17(h_17)\n",
    "#add_8 = add([h_18, ])\n",
    "h_19 = c_18(h_18)\n",
    "h_20 = c_19(h_19)\n",
    "add_9 = add([h_20, h_18])\n",
    "h_21 = c_20(add_9)\n",
    "h_22 = c_21(h_21)\n",
    "add_10 = add([h_22, add_9])\n",
    "h_23 = c_22(add_10)\n",
    "h_24 = c_23(h_23)\n",
    "add_11 = add([h_24, add_10])\n",
    "h_25 = c_24(add_11)\n",
    "h_26 = c_25(h_25)\n",
    "add_12= add([h_26, add_11])\n",
    "h_27 = c_26(add_12)\n",
    "h_28 = c_27(h_27)\n",
    "add_13 = add([h_28, add_12])\n",
    "h_29 = c_28(add_13)\n",
    "h_30 = c_29(h_29)\n",
    "#add_14 = add([h_30, ])\n",
    "h_31 = c_30(h_30)\n",
    "h_32 = c_31(h_31)\n",
    "add_15 = add([h_32, h_30])\n",
    "h_33 = c_32(add_15)\n",
    "h_34 = c_33(h_33)\n",
    "add_16 = add([h_34, add_15])\n",
    "h_35 = p_2(add_16)\n",
    "h_36 = f_1(h_35)\n",
    "y = f_2(h_36)"
   ]
  },
  {
   "cell_type": "markdown",
   "metadata": {},
   "source": [
    "z_1 = ZeroPadding2D((100, 100))\n",
    "c_1 = Conv2D(64, (7, 7), strides=(2, 2), padding='same', activation='relu')\n",
    "p_1 = MaxPool2D((3, 3), strides = (2, 2))\n",
    "c_2 = Conv2D(64, (3, 3), padding='same', activation='relu')\n",
    "c_3 = Conv2D(64, (3, 3), padding='same', activation='relu')\n",
    "c_4 = Conv2D(64, (3, 3), padding='same', activation='relu')\n",
    "c_5 = Conv2D(64, (3, 3), padding='same', activation='relu')\n",
    "c_6 = Conv2D(64, (3, 3), padding='same', activation='relu')\n",
    "c_7 = Conv2D(64, (3, 3), padding='same', activation='relu')\n",
    "#想寫一個增加維度的\n",
    "c_8 = Conv2D(128, (3, 3), strides = (2, 2), padding='same', activation='relu')\n",
    "c_9 = Conv2D(128, (3, 3), padding='same', activation='relu')\n",
    "c_10 = Conv2D(128, (3, 3), padding='same', activation='relu')\n",
    "c_11 = Conv2D(128, (3, 3), padding='same', activation='relu')\n",
    "c_12 = Conv2D(128, (3, 3), padding='same', activation='relu')\n",
    "c_13 = Conv2D(128, (3, 3), padding='same', activation='relu')\n",
    "c_14 = Conv2D(128, (3, 3), padding='same', activation='relu')\n",
    "c_15 = Conv2D(128, (3, 3), padding='same', activation='relu')\n",
    "#想寫一個增加維度的\n",
    "c_16 = Conv2D(256, (3, 3), strides = (2, 2), padding='same', activation='relu')\n",
    "c_17 = Conv2D(256, (3, 3), padding='same', activation='relu')\n",
    "c_18 = Conv2D(256, (3, 3), padding='same', activation='relu')\n",
    "c_19 = Conv2D(256, (3, 3), padding='same', activation='relu')\n",
    "c_20 = Conv2D(256, (3, 3), padding='same', activation='relu')\n",
    "c_21 = Conv2D(256, (3, 3), padding='same', activation='relu')\n",
    "c_22 = Conv2D(256, (3, 3), padding='same', activation='relu')\n",
    "c_23 = Conv2D(256, (3, 3), padding='same', activation='relu')\n",
    "c_24 = Conv2D(256, (3, 3), padding='same', activation='relu')\n",
    "c_25 = Conv2D(256, (3, 3), padding='same', activation='relu')\n",
    "c_26 = Conv2D(256, (3, 3), padding='same', activation='relu')\n",
    "c_27 = Conv2D(256, (3, 3), padding='same', activation='relu')\n",
    "#想寫一個增加維度的\n",
    "c_28 = Conv2D(512, (3, 3), strides = (2, 2), padding='same', activation='relu')\n",
    "c_29 = Conv2D(512, (3, 3), padding='same', activation='relu')\n",
    "c_30 = Conv2D(512, (3, 3), padding='same', activation='relu')\n",
    "c_31 = Conv2D(512, (3, 3), padding='same', activation='relu')\n",
    "c_32 = Conv2D(512, (3, 3), padding='same', activation='relu')\n",
    "c_33 = Conv2D(512, (3, 3), padding='same', activation='relu')\n",
    "p_2 = GlobalAveragePooling2D()\n",
    "f_1 = Dense(100, activation='relu')\n",
    "f_2 = Dense(10, activation='softmax')"
   ]
  },
  {
   "cell_type": "code",
   "execution_count": null,
   "metadata": {
    "collapsed": true
   },
   "outputs": [],
   "source": []
  }
 ],
 "metadata": {
  "kernelspec": {
   "display_name": "Python 3",
   "language": "python",
   "name": "python3"
  },
  "language_info": {
   "codemirror_mode": {
    "name": "ipython",
    "version": 3
   },
   "file_extension": ".py",
   "mimetype": "text/x-python",
   "name": "python",
   "nbconvert_exporter": "python",
   "pygments_lexer": "ipython3",
   "version": "3.6.2"
  }
 },
 "nbformat": 4,
 "nbformat_minor": 2
}
