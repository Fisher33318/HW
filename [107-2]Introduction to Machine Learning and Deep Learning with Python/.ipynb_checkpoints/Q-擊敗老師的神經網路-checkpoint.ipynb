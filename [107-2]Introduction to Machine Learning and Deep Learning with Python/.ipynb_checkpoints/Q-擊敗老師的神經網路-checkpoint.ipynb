{
 "cells": [
  {
   "cell_type": "markdown",
   "metadata": {},
   "source": [
    "## package介紹\n",
    "np_utils: one-hot enconding\n",
    "<br/>Sequential: build neural network model\n",
    "<br/>keras.layers: design layers with activation function, Node numbers......\n",
    "<br/>EarlyStopping: avoid overfitting\n",
    "<br/>History: record training log"
   ]
  },
  {
   "cell_type": "code",
   "execution_count": 1,
   "metadata": {},
   "outputs": [
    {
     "name": "stderr",
     "output_type": "stream",
     "text": [
      "Using TensorFlow backend.\n"
     ]
    }
   ],
   "source": [
    "%matplotlib inline\n",
    "\n",
    "import numpy as np\n",
    "import matplotlib.pyplot as plt\n",
    "import pandas as pd\n",
    "from keras.utils import np_utils\n",
    "from keras.models import Sequential\n",
    "from keras.layers import Dense, Activation, Dropout\n",
    "from keras.optimizers import SGD\n",
    "from keras.callbacks import EarlyStopping, History\n",
    "from keras.datasets import mnist"
   ]
  },
  {
   "cell_type": "code",
   "execution_count": 2,
   "metadata": {
    "collapsed": true
   },
   "outputs": [],
   "source": [
    "(x_train, y_train), (x_test, y_test) = mnist.load_data()"
   ]
  },
  {
   "cell_type": "markdown",
   "metadata": {},
   "source": [
    "## 資料處理\n",
    "輸入變成一維、正規化\n",
    "<br/>輸出變成one-hot enconding"
   ]
  },
  {
   "cell_type": "code",
   "execution_count": 3,
   "metadata": {
    "collapsed": true
   },
   "outputs": [],
   "source": [
    "x_train = x_train.reshape(60000, 784)\n",
    "x_test = x_test.reshape(10000, 784)"
   ]
  },
  {
   "cell_type": "code",
   "execution_count": 4,
   "metadata": {
    "collapsed": true
   },
   "outputs": [],
   "source": [
    "x_train = (x_train - x_train.min()) / (x_train.max() - x_train.min())\n",
    "x_test = (x_test - x_test.min()) / (x_test.max() - x_test.min())"
   ]
  },
  {
   "cell_type": "code",
   "execution_count": 5,
   "metadata": {
    "collapsed": true
   },
   "outputs": [],
   "source": [
    "y_train = np_utils.to_categorical(y_train, 10)\n",
    "y_test = np_utils.to_categorical(y_test, 10)"
   ]
  },
  {
   "cell_type": "markdown",
   "metadata": {},
   "source": [
    "## 建立神經網路\n",
    "使用Dropout防止過度擬和\n",
    "建立三層隱藏層\n",
    "活化函數都使用ReLU"
   ]
  },
  {
   "cell_type": "code",
   "execution_count": 6,
   "metadata": {
    "collapsed": true
   },
   "outputs": [],
   "source": [
    "model = Sequential()"
   ]
  },
  {
   "cell_type": "code",
   "execution_count": 7,
   "metadata": {
    "collapsed": true
   },
   "outputs": [],
   "source": [
    "model.add(Dense(1000, input_dim=784))\n",
    "model.add(Activation('relu'))\n",
    "model.add(Dropout(0.2))"
   ]
  },
  {
   "cell_type": "code",
   "execution_count": 8,
   "metadata": {
    "collapsed": true
   },
   "outputs": [],
   "source": [
    "model.add(Dense(500))\n",
    "model.add(Activation('relu'))\n",
    "model.add(Dropout(0.2))"
   ]
  },
  {
   "cell_type": "code",
   "execution_count": 9,
   "metadata": {
    "collapsed": true
   },
   "outputs": [],
   "source": [
    "model.add(Dense(100))\n",
    "model.add(Activation('relu'))\n",
    "model.add(Dropout(0.2))"
   ]
  },
  {
   "cell_type": "code",
   "execution_count": 10,
   "metadata": {
    "collapsed": true
   },
   "outputs": [],
   "source": [
    "model.add(Dense(10))\n",
    "model.add(Activation('softmax'))"
   ]
  },
  {
   "cell_type": "code",
   "execution_count": 11,
   "metadata": {
    "collapsed": true
   },
   "outputs": [],
   "source": [
    "model.compile(loss='categorical_crossentropy', optimizer=SGD(lr=0.01, decay=1e-4, momentum=0.9), metrics=['accuracy'])"
   ]
  },
  {
   "cell_type": "code",
   "execution_count": 12,
   "metadata": {
    "scrolled": true
   },
   "outputs": [
    {
     "name": "stdout",
     "output_type": "stream",
     "text": [
      "_________________________________________________________________\n",
      "Layer (type)                 Output Shape              Param #   \n",
      "=================================================================\n",
      "dense_1 (Dense)              (None, 1000)              785000    \n",
      "_________________________________________________________________\n",
      "activation_1 (Activation)    (None, 1000)              0         \n",
      "_________________________________________________________________\n",
      "dropout_1 (Dropout)          (None, 1000)              0         \n",
      "_________________________________________________________________\n",
      "dense_2 (Dense)              (None, 500)               500500    \n",
      "_________________________________________________________________\n",
      "activation_2 (Activation)    (None, 500)               0         \n",
      "_________________________________________________________________\n",
      "dropout_2 (Dropout)          (None, 500)               0         \n",
      "_________________________________________________________________\n",
      "dense_3 (Dense)              (None, 100)               50100     \n",
      "_________________________________________________________________\n",
      "activation_3 (Activation)    (None, 100)               0         \n",
      "_________________________________________________________________\n",
      "dropout_3 (Dropout)          (None, 100)               0         \n",
      "_________________________________________________________________\n",
      "dense_4 (Dense)              (None, 10)                1010      \n",
      "_________________________________________________________________\n",
      "activation_4 (Activation)    (None, 10)                0         \n",
      "=================================================================\n",
      "Total params: 1,336,610\n",
      "Trainable params: 1,336,610\n",
      "Non-trainable params: 0\n",
      "_________________________________________________________________\n"
     ]
    }
   ],
   "source": [
    "model.summary()"
   ]
  },
  {
   "cell_type": "markdown",
   "metadata": {},
   "source": [
    "## 防止overfitting，所以在val_acc停止上升時提早結束"
   ]
  },
  {
   "cell_type": "code",
   "execution_count": 13,
   "metadata": {
    "collapsed": true
   },
   "outputs": [],
   "source": [
    "earlystopping = EarlyStopping(monitor='val_acc', \n",
    "                              patience=3, \n",
    "                              verbose=1, \n",
    "                              mode='max')"
   ]
  },
  {
   "cell_type": "code",
   "execution_count": 14,
   "metadata": {
    "scrolled": true
   },
   "outputs": [
    {
     "name": "stdout",
     "output_type": "stream",
     "text": [
      "Train on 60000 samples, validate on 10000 samples\n",
      "Epoch 1/100\n",
      "60000/60000 [==============================] - 6s 103us/step - loss: 0.4414 - acc: 0.8657 - val_loss: 0.1669 - val_acc: 0.9479\n",
      "Epoch 2/100\n",
      "60000/60000 [==============================] - 4s 63us/step - loss: 0.1798 - acc: 0.9470 - val_loss: 0.1173 - val_acc: 0.9638\n",
      "Epoch 3/100\n",
      "60000/60000 [==============================] - 4s 64us/step - loss: 0.1310 - acc: 0.9610 - val_loss: 0.0953 - val_acc: 0.9702\n",
      "Epoch 4/100\n",
      "60000/60000 [==============================] - 4s 66us/step - loss: 0.1054 - acc: 0.9684 - val_loss: 0.0786 - val_acc: 0.9747\n",
      "Epoch 5/100\n",
      "60000/60000 [==============================] - 4s 64us/step - loss: 0.0858 - acc: 0.9741 - val_loss: 0.0714 - val_acc: 0.9773\n",
      "Epoch 6/100\n",
      "60000/60000 [==============================] - 4s 63us/step - loss: 0.0706 - acc: 0.9788 - val_loss: 0.0715 - val_acc: 0.9769\n",
      "Epoch 7/100\n",
      "60000/60000 [==============================] - 4s 66us/step - loss: 0.0630 - acc: 0.9807 - val_loss: 0.0650 - val_acc: 0.9786\n",
      "Epoch 8/100\n",
      "60000/60000 [==============================] - 4s 62us/step - loss: 0.0528 - acc: 0.9841 - val_loss: 0.0600 - val_acc: 0.9814\n",
      "Epoch 9/100\n",
      "60000/60000 [==============================] - 4s 61us/step - loss: 0.0486 - acc: 0.9853 - val_loss: 0.0597 - val_acc: 0.9818\n",
      "Epoch 10/100\n",
      "60000/60000 [==============================] - 4s 61us/step - loss: 0.0414 - acc: 0.9871 - val_loss: 0.0573 - val_acc: 0.9823\n",
      "Epoch 11/100\n",
      "60000/60000 [==============================] - 5s 77us/step - loss: 0.0369 - acc: 0.9889 - val_loss: 0.0576 - val_acc: 0.9827\n",
      "Epoch 12/100\n",
      "60000/60000 [==============================] - 4s 63us/step - loss: 0.0348 - acc: 0.9888 - val_loss: 0.0543 - val_acc: 0.9828\n",
      "Epoch 13/100\n",
      "60000/60000 [==============================] - 4s 62us/step - loss: 0.0303 - acc: 0.9903 - val_loss: 0.0546 - val_acc: 0.9830\n",
      "Epoch 14/100\n",
      "60000/60000 [==============================] - 4s 62us/step - loss: 0.0282 - acc: 0.9911 - val_loss: 0.0545 - val_acc: 0.9831\n",
      "Epoch 15/100\n",
      "60000/60000 [==============================] - 4s 64us/step - loss: 0.0246 - acc: 0.9926 - val_loss: 0.0564 - val_acc: 0.9821\n",
      "Epoch 16/100\n",
      "60000/60000 [==============================] - 4s 62us/step - loss: 0.0231 - acc: 0.9931 - val_loss: 0.0536 - val_acc: 0.9846\n",
      "Epoch 17/100\n",
      "60000/60000 [==============================] - 4s 67us/step - loss: 0.0213 - acc: 0.9939 - val_loss: 0.0545 - val_acc: 0.9843\n",
      "Epoch 18/100\n",
      "60000/60000 [==============================] - 4s 63us/step - loss: 0.0195 - acc: 0.9941 - val_loss: 0.0556 - val_acc: 0.9834\n",
      "Epoch 19/100\n",
      "60000/60000 [==============================] - 4s 61us/step - loss: 0.0185 - acc: 0.9948 - val_loss: 0.0531 - val_acc: 0.9847\n",
      "Epoch 20/100\n",
      "60000/60000 [==============================] - 4s 67us/step - loss: 0.0175 - acc: 0.9948 - val_loss: 0.0543 - val_acc: 0.9836\n",
      "Epoch 21/100\n",
      "60000/60000 [==============================] - 4s 65us/step - loss: 0.0156 - acc: 0.9956 - val_loss: 0.0533 - val_acc: 0.9839\n",
      "Epoch 22/100\n",
      "60000/60000 [==============================] - 4s 64us/step - loss: 0.0144 - acc: 0.9956 - val_loss: 0.0545 - val_acc: 0.9844\n",
      "Epoch 00022: early stopping\n"
     ]
    }
   ],
   "source": [
    "history = model.fit(x_train, y_train, \n",
    "           batch_size=100, \n",
    "           epochs=100, \n",
    "           verbose = 1, \n",
    "           validation_data = (x_test, y_test), \n",
    "           callbacks=[earlystopping])"
   ]
  },
  {
   "cell_type": "code",
   "execution_count": 28,
   "metadata": {
    "collapsed": true
   },
   "outputs": [],
   "source": [
    "predict = model.predict_classes(x_test)"
   ]
  },
  {
   "cell_type": "code",
   "execution_count": 29,
   "metadata": {
    "collapsed": true
   },
   "outputs": [],
   "source": [
    "def test(n):\n",
    "    plt.imshow(x_test[n].reshape(28,28), cmap='Greys')\n",
    "    print('predict:', predict[n])"
   ]
  },
  {
   "cell_type": "code",
   "execution_count": 30,
   "metadata": {},
   "outputs": [
    {
     "name": "stdout",
     "output_type": "stream",
     "text": [
      "predict: 7\n"
     ]
    },
    {
     "data": {
      "image/png": "[encoded data removed]",
      "text/plain": [
       "<Figure size 432x288 with 1 Axes>"
      ]
     },
     "metadata": {},
     "output_type": "display_data"
    }
   ],
   "source": [
    "test(0)"
   ]
  },
  {
   "cell_type": "markdown",
   "metadata": {},
   "source": [
    "## 建立較少神經元的神經網路"
   ]
  },
  {
   "cell_type": "code",
   "execution_count": 15,
   "metadata": {
    "collapsed": true
   },
   "outputs": [],
   "source": [
    "model_1 = Sequential()"
   ]
  },
  {
   "cell_type": "code",
   "execution_count": 16,
   "metadata": {
    "collapsed": true
   },
   "outputs": [],
   "source": [
    "model_1.add(Dense(100, input_dim=784))\n",
    "model_1.add(Activation('relu'))\n",
    "model_1.add(Dropout(0.2))"
   ]
  },
  {
   "cell_type": "code",
   "execution_count": 17,
   "metadata": {
    "collapsed": true
   },
   "outputs": [],
   "source": [
    "model_1.add(Dense(50))\n",
    "model_1.add(Activation('relu'))\n",
    "model_1.add(Dropout(0.2))"
   ]
  },
  {
   "cell_type": "code",
   "execution_count": 18,
   "metadata": {
    "collapsed": true
   },
   "outputs": [],
   "source": [
    "model_1.add(Dense(10))\n",
    "model_1.add(Activation('relu'))\n",
    "model_1.add(Dropout(0.2))"
   ]
  },
  {
   "cell_type": "code",
   "execution_count": 19,
   "metadata": {
    "collapsed": true
   },
   "outputs": [],
   "source": [
    "model_1.add(Dense(10))\n",
    "model_1.add(Activation('softmax'))"
   ]
  },
  {
   "cell_type": "code",
   "execution_count": 20,
   "metadata": {
    "collapsed": true
   },
   "outputs": [],
   "source": [
    "model_1.compile(loss='categorical_crossentropy', optimizer=SGD(lr=0.01, decay=1e-4, momentum=0.9), metrics=['accuracy'])"
   ]
  },
  {
   "cell_type": "code",
   "execution_count": 21,
   "metadata": {
    "scrolled": true
   },
   "outputs": [
    {
     "name": "stdout",
     "output_type": "stream",
     "text": [
      "_________________________________________________________________\n",
      "Layer (type)                 Output Shape              Param #   \n",
      "=================================================================\n",
      "dense_5 (Dense)              (None, 100)               78500     \n",
      "_________________________________________________________________\n",
      "activation_5 (Activation)    (None, 100)               0         \n",
      "_________________________________________________________________\n",
      "dropout_4 (Dropout)          (None, 100)               0         \n",
      "_________________________________________________________________\n",
      "dense_6 (Dense)              (None, 50)                5050      \n",
      "_________________________________________________________________\n",
      "activation_6 (Activation)    (None, 50)                0         \n",
      "_________________________________________________________________\n",
      "dropout_5 (Dropout)          (None, 50)                0         \n",
      "_________________________________________________________________\n",
      "dense_7 (Dense)              (None, 10)                510       \n",
      "_________________________________________________________________\n",
      "activation_7 (Activation)    (None, 10)                0         \n",
      "_________________________________________________________________\n",
      "dropout_6 (Dropout)          (None, 10)                0         \n",
      "_________________________________________________________________\n",
      "dense_8 (Dense)              (None, 10)                110       \n",
      "_________________________________________________________________\n",
      "activation_8 (Activation)    (None, 10)                0         \n",
      "=================================================================\n",
      "Total params: 84,170\n",
      "Trainable params: 84,170\n",
      "Non-trainable params: 0\n",
      "_________________________________________________________________\n"
     ]
    }
   ],
   "source": [
    "model_1.summary()"
   ]
  },
  {
   "cell_type": "code",
   "execution_count": 22,
   "metadata": {},
   "outputs": [
    {
     "name": "stdout",
     "output_type": "stream",
     "text": [
      "Train on 60000 samples, validate on 10000 samples\n",
      "Epoch 1/100\n",
      "60000/60000 [==============================] - 3s 50us/step - loss: 1.0327 - acc: 0.6419 - val_loss: 0.3272 - val_acc: 0.9101\n",
      "Epoch 2/100\n",
      "60000/60000 [==============================] - 3s 42us/step - loss: 0.5384 - acc: 0.8287 - val_loss: 0.2380 - val_acc: 0.9372\n",
      "Epoch 3/100\n",
      "60000/60000 [==============================] - 3s 45us/step - loss: 0.4388 - acc: 0.8621 - val_loss: 0.1921 - val_acc: 0.9491\n",
      "Epoch 4/100\n",
      "60000/60000 [==============================] - 3s 45us/step - loss: 0.3894 - acc: 0.8770 - val_loss: 0.1720 - val_acc: 0.9540\n",
      "Epoch 5/100\n",
      "60000/60000 [==============================] - 3s 48us/step - loss: 0.3565 - acc: 0.8867 - val_loss: 0.1538 - val_acc: 0.9586\n",
      "Epoch 6/100\n",
      "60000/60000 [==============================] - 3s 55us/step - loss: 0.3299 - acc: 0.8968 - val_loss: 0.1517 - val_acc: 0.9597\n",
      "Epoch 7/100\n",
      "60000/60000 [==============================] - 3s 48us/step - loss: 0.3144 - acc: 0.8993 - val_loss: 0.1454 - val_acc: 0.9625\n",
      "Epoch 8/100\n",
      "60000/60000 [==============================] - 3s 49us/step - loss: 0.2990 - acc: 0.9050 - val_loss: 0.1393 - val_acc: 0.9636\n",
      "Epoch 9/100\n",
      "60000/60000 [==============================] - 3s 47us/step - loss: 0.2908 - acc: 0.9057 - val_loss: 0.1351 - val_acc: 0.9660\n",
      "Epoch 10/100\n",
      "60000/60000 [==============================] - 3s 47us/step - loss: 0.2758 - acc: 0.9109 - val_loss: 0.1312 - val_acc: 0.9668\n",
      "Epoch 11/100\n",
      "60000/60000 [==============================] - 3s 49us/step - loss: 0.2641 - acc: 0.9142 - val_loss: 0.1289 - val_acc: 0.9672\n",
      "Epoch 12/100\n",
      "60000/60000 [==============================] - 3s 48us/step - loss: 0.2589 - acc: 0.9156 - val_loss: 0.1277 - val_acc: 0.9685\n",
      "Epoch 13/100\n",
      "60000/60000 [==============================] - 3s 54us/step - loss: 0.2557 - acc: 0.9173 - val_loss: 0.1252 - val_acc: 0.9700\n",
      "Epoch 14/100\n",
      "60000/60000 [==============================] - 3s 53us/step - loss: 0.2443 - acc: 0.9220 - val_loss: 0.1254 - val_acc: 0.9702\n",
      "Epoch 15/100\n",
      "60000/60000 [==============================] - 3s 47us/step - loss: 0.2408 - acc: 0.9224 - val_loss: 0.1237 - val_acc: 0.9698\n",
      "Epoch 16/100\n",
      "60000/60000 [==============================] - 3s 46us/step - loss: 0.2305 - acc: 0.9245 - val_loss: 0.1220 - val_acc: 0.9712\n",
      "Epoch 17/100\n",
      "60000/60000 [==============================] - 3s 45us/step - loss: 0.2307 - acc: 0.9252 - val_loss: 0.1196 - val_acc: 0.9707\n",
      "Epoch 18/100\n",
      "60000/60000 [==============================] - 3s 45us/step - loss: 0.2262 - acc: 0.9269 - val_loss: 0.1184 - val_acc: 0.9711\n",
      "Epoch 19/100\n",
      "60000/60000 [==============================] - 3s 44us/step - loss: 0.2213 - acc: 0.9282 - val_loss: 0.1171 - val_acc: 0.9718\n",
      "Epoch 20/100\n",
      "60000/60000 [==============================] - 3s 45us/step - loss: 0.2145 - acc: 0.9297 - val_loss: 0.1168 - val_acc: 0.9719\n",
      "Epoch 21/100\n",
      "60000/60000 [==============================] - 3s 45us/step - loss: 0.2110 - acc: 0.9322 - val_loss: 0.1151 - val_acc: 0.9731\n",
      "Epoch 22/100\n",
      "60000/60000 [==============================] - 3s 45us/step - loss: 0.2103 - acc: 0.9322 - val_loss: 0.1185 - val_acc: 0.9727\n",
      "Epoch 23/100\n",
      "60000/60000 [==============================] - 3s 45us/step - loss: 0.2045 - acc: 0.9333 - val_loss: 0.1190 - val_acc: 0.9722\n",
      "Epoch 24/100\n",
      "60000/60000 [==============================] - 3s 46us/step - loss: 0.2030 - acc: 0.9339 - val_loss: 0.1169 - val_acc: 0.9726\n",
      "Epoch 00024: early stopping\n"
     ]
    }
   ],
   "source": [
    "history_1 = model_1.fit(x_train, y_train, \n",
    "          batch_size=100, \n",
    "          epochs=100, \n",
    "          verbose = 1, \n",
    "          validation_data = (x_test, y_test), \n",
    "          callbacks=[earlystopping])"
   ]
  },
  {
   "cell_type": "markdown",
   "metadata": {},
   "source": [
    "## 比較兩種Model的準確度"
   ]
  },
  {
   "cell_type": "code",
   "execution_count": 24,
   "metadata": {},
   "outputs": [
    {
     "data": {
      "image/png": "[encoded data removed]",
      "text/plain": [
       "<Figure size 432x288 with 1 Axes>"
      ]
     },
     "metadata": {},
     "output_type": "display_data"
    }
   ],
   "source": [
    "plt.plot(history.history['acc'])\n",
    "plt.plot(history_1.history['acc'])\n",
    "plt.title('different node numbers acc compare')\n",
    "plt.ylabel('accuracy')\n",
    "plt.xlabel('epoch')\n",
    "plt.legend(['model', 'model_1'], loc = 'best')\n",
    "plt.show()"
   ]
  },
  {
   "cell_type": "code",
   "execution_count": 25,
   "metadata": {},
   "outputs": [
    {
     "data": {
      "image/png": "[encoded data removed]",
      "text/plain": [
       "<Figure size 432x288 with 1 Axes>"
      ]
     },
     "metadata": {},
     "output_type": "display_data"
    }
   ],
   "source": [
    "plt.plot(history.history['val_acc'])\n",
    "plt.plot(history_1.history['val_acc'])\n",
    "plt.title('different node numbers val_acc compare')\n",
    "plt.ylabel('accuracy')\n",
    "plt.xlabel('epoch')\n",
    "plt.legend(['model', 'model_1'], loc = 'best')\n",
    "plt.show()"
   ]
  },
  {
   "cell_type": "markdown",
   "metadata": {},
   "source": [
    "## Save Model&Weights"
   ]
  },
  {
   "cell_type": "code",
   "execution_count": 26,
   "metadata": {},
   "outputs": [],
   "source": [
    "model_json = model.to_json()\n",
    "open(\"numbers.json\",'w').write(model_json)\n",
    "model.save_weights(\"numbers_weights.h5\")"
   ]
  },
  {
   "cell_type": "markdown",
   "metadata": {},
   "source": [
    "## Call Model&Weights"
   ]
  },
  {
   "cell_type": "code",
   "execution_count": 27,
   "metadata": {
    "collapsed": true
   },
   "outputs": [],
   "source": [
    "#model = model_from_json(open('numbers.json').read())\n",
    "#model.load_weights('numbers_weights.h5')\n",
    "#model.compile(loss='categorical_crossentropy', optimizer=SGD(lr=0.01, decay=1e-4, momentum=0.9), metrics=['accuracy'])"
   ]
  }
 ],
 "metadata": {
  "kernelspec": {
   "display_name": "Python 3",
   "language": "python",
   "name": "python3"
  },
  "language_info": {
   "codemirror_mode": {
    "name": "ipython",
    "version": 3
   },
   "file_extension": ".py",
   "mimetype": "text/x-python",
   "name": "python",
   "nbconvert_exporter": "python",
   "pygments_lexer": "ipython3",
   "version": "3.6.2"
  }
 },
 "nbformat": 4,
 "nbformat_minor": 2
}
