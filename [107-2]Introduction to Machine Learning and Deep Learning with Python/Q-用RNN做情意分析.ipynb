{
 "cells": [
  {
   "cell_type": "code",
   "execution_count": 1,
   "metadata": {},
   "outputs": [
    {
     "name": "stderr",
     "output_type": "stream",
     "text": [
      "Using TensorFlow backend.\n"
     ]
    }
   ],
   "source": [
    "%matplotlib inline\n",
    "\n",
    "import numpy as np\n",
    "import matplotlib.pyplot as plt\n",
    "from keras.utils import np_utils\n",
    "from keras.models import Model\n",
    "from keras.layers import Dense, Activation, Dropout, Input, concatenate, add\n",
    "from keras.optimizers import SGD, Adam\n",
    "from keras.callbacks import EarlyStopping, History"
   ]
  },
  {
   "cell_type": "markdown",
   "metadata": {},
   "source": [
    "## IMDB：影評資料\n",
    "## sequence：設輸入文字長度的上限\n",
    "## Embedding：挑出來的字會用1-hot表示(挑了15000比太多)，可將維度縮小(字和字間基本上是沒有關係)\n",
    "## LSTM：常用的RNN寫法\n",
    "## Bidirectional：可以執行雙向RNN，單向RNN只考慮到上文，雙向能考慮上下文"
   ]
  },
  {
   "cell_type": "code",
   "execution_count": 2,
   "metadata": {},
   "outputs": [],
   "source": [
    "from keras.preprocessing import sequence\n",
    "from keras.datasets import imdb\n",
    "from keras.layers import Embedding, LSTM, Bidirectional"
   ]
  },
  {
   "cell_type": "markdown",
   "metadata": {},
   "source": [
    "num_words可以選挑幾個「最常用」的字，其他當不存在"
   ]
  },
  {
   "cell_type": "code",
   "execution_count": 3,
   "metadata": {},
   "outputs": [],
   "source": [
    "(x_train, y_train), (x_test, y_test) = imdb.load_data(num_words=15000)"
   ]
  },
  {
   "cell_type": "code",
   "execution_count": 4,
   "metadata": {},
   "outputs": [],
   "source": [
    "x_train = sequence.pad_sequences(x_train, maxlen=150)\n",
    "x_test = sequence.pad_sequences(x_test, maxlen=150)"
   ]
  },
  {
   "cell_type": "markdown",
   "metadata": {},
   "source": [
    "## 要使用多層RNN，必須設定return_sequences = True"
   ]
  },
  {
   "cell_type": "code",
   "execution_count": 5,
   "metadata": {},
   "outputs": [],
   "source": [
    "e_1 = Embedding(15000, 30)\n",
    "r_1 = Bidirectional(LSTM(20, activation = 'tanh', dropout = 0.5, return_sequences = True), merge_mode='concat')\n",
    "r_2 = LSTM(50, activation = 'tanh', dropout = 0.2)\n",
    "f_1 = Dense(1, activation='sigmoid')"
   ]
  },
  {
   "cell_type": "code",
   "execution_count": 6,
   "metadata": {},
   "outputs": [],
   "source": [
    "x = Input(shape=(150, ))\n",
    "h_1 = e_1(x)\n",
    "h_2 = r_1(h_1)\n",
    "h_3 = r_2(h_2)\n",
    "y = f_1(h_3)"
   ]
  },
  {
   "cell_type": "code",
   "execution_count": 7,
   "metadata": {},
   "outputs": [
    {
     "name": "stdout",
     "output_type": "stream",
     "text": [
      "_________________________________________________________________\n",
      "Layer (type)                 Output Shape              Param #   \n",
      "=================================================================\n",
      "input_1 (InputLayer)         (None, 150)               0         \n",
      "_________________________________________________________________\n",
      "embedding_1 (Embedding)      (None, 150, 30)           450000    \n",
      "_________________________________________________________________\n",
      "bidirectional_1 (Bidirection (None, 150, 40)           8160      \n",
      "_________________________________________________________________\n",
      "lstm_2 (LSTM)                (None, 50)                18200     \n",
      "_________________________________________________________________\n",
      "dense_1 (Dense)              (None, 1)                 51        \n",
      "=================================================================\n",
      "Total params: 476,411\n",
      "Trainable params: 476,411\n",
      "Non-trainable params: 0\n",
      "_________________________________________________________________\n"
     ]
    }
   ],
   "source": [
    "model = Model(x, y)\n",
    "model.summary()"
   ]
  },
  {
   "cell_type": "code",
   "execution_count": 8,
   "metadata": {},
   "outputs": [],
   "source": [
    "model.compile(loss='binary_crossentropy', optimizer=Adam(lr=0.001, beta_1=0.9, beta_2=0.999), metrics=['accuracy'])"
   ]
  },
  {
   "cell_type": "code",
   "execution_count": 9,
   "metadata": {
    "collapsed": true
   },
   "outputs": [],
   "source": [
    "earlystopping = EarlyStopping(monitor='val_acc', \n",
    "                              patience=3, \n",
    "                              verbose=1, \n",
    "                              mode='max')"
   ]
  },
  {
   "cell_type": "code",
   "execution_count": 10,
   "metadata": {},
   "outputs": [
    {
     "name": "stdout",
     "output_type": "stream",
     "text": [
      "Train on 25000 samples, validate on 25000 samples\n",
      "Epoch 1/100\n",
      "25000/25000 [==============================] - 40s 2ms/step - loss: 0.6892 - acc: 0.5740 - val_loss: 0.6697 - val_acc: 0.6928\n",
      "Epoch 2/100\n",
      "25000/25000 [==============================] - 36s 1ms/step - loss: 0.5268 - acc: 0.7552 - val_loss: 0.4057 - val_acc: 0.8192\n",
      "Epoch 3/100\n",
      "25000/25000 [==============================] - 36s 1ms/step - loss: 0.3455 - acc: 0.8559 - val_loss: 0.3521 - val_acc: 0.8518\n",
      "Epoch 4/100\n",
      "25000/25000 [==============================] - 34s 1ms/step - loss: 0.2570 - acc: 0.9005 - val_loss: 0.3259 - val_acc: 0.8656\n",
      "Epoch 5/100\n",
      "25000/25000 [==============================] - 37s 1ms/step - loss: 0.2077 - acc: 0.9237 - val_loss: 0.3408 - val_acc: 0.8646\n",
      "Epoch 6/100\n",
      "25000/25000 [==============================] - 37s 1ms/step - loss: 0.1763 - acc: 0.9367 - val_loss: 0.3465 - val_acc: 0.8646\n",
      "Epoch 7/100\n",
      "25000/25000 [==============================] - 35s 1ms/step - loss: 0.1474 - acc: 0.9501 - val_loss: 0.3678 - val_acc: 0.8621\n",
      "Epoch 00007: early stopping\n"
     ]
    }
   ],
   "source": [
    "history = model.fit(x_train, y_train, \n",
    "           batch_size=1000, \n",
    "           epochs=100, \n",
    "           verbose = 1, \n",
    "           validation_data = (x_test, y_test), \n",
    "           callbacks=[earlystopping])"
   ]
  },
  {
   "cell_type": "code",
   "execution_count": 11,
   "metadata": {},
   "outputs": [
    {
     "data": {
      "image/png": "[encoded data removed]",
      "text/plain": [
       "<Figure size 432x288 with 1 Axes>"
      ]
     },
     "metadata": {},
     "output_type": "display_data"
    }
   ],
   "source": [
    "plt.plot(history.history['acc'])\n",
    "plt.plot(history.history['val_acc'])\n",
    "plt.title('acc / val_acc')\n",
    "plt.ylabel('accuracy')\n",
    "plt.xlabel('epoch')\n",
    "plt.legend(['acc', 'val_acc'], loc = 'best')\n",
    "plt.show()"
   ]
  },
  {
   "cell_type": "code",
   "execution_count": 12,
   "metadata": {
    "collapsed": true
   },
   "outputs": [],
   "source": [
    "model_json = model.to_json()\n",
    "open(\"LSTM_test.json\",'w').write(model_json)\n",
    "model.save_weights(\"LSTM_test.h5\")"
   ]
  },
  {
   "cell_type": "code",
   "execution_count": null,
   "metadata": {
    "collapsed": true
   },
   "outputs": [],
   "source": []
  }
 ],
 "metadata": {
  "kernelspec": {
   "display_name": "Python 3",
   "language": "python",
   "name": "python3"
  },
  "language_info": {
   "codemirror_mode": {
    "name": "ipython",
    "version": 3
   },
   "file_extension": ".py",
   "mimetype": "text/x-python",
   "name": "python",
   "nbconvert_exporter": "python",
   "pygments_lexer": "ipython3",
   "version": "3.6.2"
  }
 },
 "nbformat": 4,
 "nbformat_minor": 2
}
